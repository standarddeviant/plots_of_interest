{
 "cells": [
  {
   "cell_type": "code",
   "execution_count": 19,
   "metadata": {
    "hideCode": true,
    "hideOutput": true,
    "hidePrompt": true
   },
   "outputs": [
    {
     "data": {
      "text/html": [
       "<script>requirejs.config({paths: { 'plotly': ['https://cdn.plot.ly/plotly-latest.min']},});if(!window.Plotly) {{require(['plotly'],function(plotly) {window.Plotly=plotly;});}}</script>"
      ],
      "text/vnd.plotly.v1+html": [
       "<script>requirejs.config({paths: { 'plotly': ['https://cdn.plot.ly/plotly-latest.min']},});if(!window.Plotly) {{require(['plotly'],function(plotly) {window.Plotly=plotly;});}}</script>"
      ]
     },
     "metadata": {},
     "output_type": "display_data"
    }
   ],
   "source": [
    "import plotly\n",
    "import plotly.graph_objs as go\n",
    "from plotly.offline import download_plotlyjs, init_notebook_mode, plot, iplot\n",
    "\n",
    "# print(plotly.__version__) # requires version >= 1.9.0\n",
    "init_notebook_mode(connected=True);\n",
    "\n",
    "import pandas as pd\n",
    "# import cufflinks as cf\n",
    "#cf.set_config_file(offline=True, world_readable=True, theme='ggplot')\n",
    "\n",
    "df = pd.read_csv('cbo.csv')\n",
    "df.columns[1:];\n",
    "list(df['Income']);\n",
    "\n",
    "df2 = pd.DataFrame(data=df.iloc[:,1:].transpose(), index=df.columns[1:])\n",
    "df2 = df2/1000 # convert millions USD to billions USD\n",
    "df2.columns=list(df['Income']) # like a transpose?"
   ]
  },
  {
   "cell_type": "markdown",
   "metadata": {},
   "source": [
    "I recently saw a CBO table of change in tax revenues by income level and by year.  I think this is interesting data and ought to be visualized.  \n",
    "\n",
    "The original article I read is [here (Washington Post).](https://www.washingtonpost.com/news/wonk/wp/2017/11/26/senate-gop-tax-bill-hurts-the-poor-more-than-originally-thought-cbo-finds/)\n",
    "\n",
    "The CBO report is [here (cbo.gov)](https://www.cbo.gov/publication/53348)\n",
    "\n",
    "The original table is in units of **Millions** USD and I've converted the units to **Billions** USD. Here's the table in **Billions** USD:"
   ]
  },
  {
   "cell_type": "code",
   "execution_count": 70,
   "metadata": {
    "hideCode": true,
    "hidePrompt": true
   },
   "outputs": [
    {
     "data": {
      "text/html": [
       "<div>\n",
       "<table border=\"1\" class=\"dataframe\">\n",
       "  <thead>\n",
       "    <tr style=\"text-align: right;\">\n",
       "      <th></th>\n",
       "      <th>0 - 10k</th>\n",
       "      <th>10k - 20k</th>\n",
       "      <th>20k - 30k</th>\n",
       "      <th>30k - 40k</th>\n",
       "      <th>40k - 50k</th>\n",
       "      <th>50k - 75k</th>\n",
       "      <th>75k - 100k</th>\n",
       "      <th>100k - 200k</th>\n",
       "      <th>200k - 500k</th>\n",
       "      <th>500k - 1M</th>\n",
       "      <th>1M and above</th>\n",
       "      <th>All</th>\n",
       "    </tr>\n",
       "  </thead>\n",
       "  <tbody>\n",
       "    <tr>\n",
       "      <th>2019</th>\n",
       "      <td>1.54</td>\n",
       "      <td>0.96</td>\n",
       "      <td>0.08</td>\n",
       "      <td>-3.92</td>\n",
       "      <td>-6.04</td>\n",
       "      <td>-22.27</td>\n",
       "      <td>-21.52</td>\n",
       "      <td>-64.24</td>\n",
       "      <td>-59.57</td>\n",
       "      <td>-24.88</td>\n",
       "      <td>-34.10</td>\n",
       "      <td>-233.95</td>\n",
       "    </tr>\n",
       "    <tr>\n",
       "      <th>2021</th>\n",
       "      <td>5.87</td>\n",
       "      <td>9.05</td>\n",
       "      <td>9.00</td>\n",
       "      <td>0.77</td>\n",
       "      <td>-2.66</td>\n",
       "      <td>-19.47</td>\n",
       "      <td>-21.26</td>\n",
       "      <td>-63.99</td>\n",
       "      <td>-60.11</td>\n",
       "      <td>-24.08</td>\n",
       "      <td>-28.69</td>\n",
       "      <td>-195.57</td>\n",
       "    </tr>\n",
       "    <tr>\n",
       "      <th>2023</th>\n",
       "      <td>7.44</td>\n",
       "      <td>11.40</td>\n",
       "      <td>10.20</td>\n",
       "      <td>2.44</td>\n",
       "      <td>-1.80</td>\n",
       "      <td>-16.94</td>\n",
       "      <td>-18.47</td>\n",
       "      <td>-52.90</td>\n",
       "      <td>-50.01</td>\n",
       "      <td>-18.69</td>\n",
       "      <td>-13.10</td>\n",
       "      <td>-140.40</td>\n",
       "    </tr>\n",
       "    <tr>\n",
       "      <th>2025</th>\n",
       "      <td>8.68</td>\n",
       "      <td>12.18</td>\n",
       "      <td>12.21</td>\n",
       "      <td>2.56</td>\n",
       "      <td>-1.53</td>\n",
       "      <td>-17.38</td>\n",
       "      <td>-19.54</td>\n",
       "      <td>-55.47</td>\n",
       "      <td>-54.53</td>\n",
       "      <td>-20.00</td>\n",
       "      <td>-15.81</td>\n",
       "      <td>-148.62</td>\n",
       "    </tr>\n",
       "    <tr>\n",
       "      <th>2027</th>\n",
       "      <td>10.07</td>\n",
       "      <td>16.06</td>\n",
       "      <td>16.72</td>\n",
       "      <td>7.61</td>\n",
       "      <td>5.27</td>\n",
       "      <td>3.98</td>\n",
       "      <td>-1.39</td>\n",
       "      <td>-5.34</td>\n",
       "      <td>-5.19</td>\n",
       "      <td>-1.94</td>\n",
       "      <td>-5.78</td>\n",
       "      <td>40.11</td>\n",
       "    </tr>\n",
       "  </tbody>\n",
       "</table>\n",
       "</div>"
      ],
      "text/plain": [
       "      0 - 10k  10k - 20k  20k - 30k  30k - 40k  40k - 50k  50k - 75k  \\\n",
       "2019     1.54       0.96       0.08      -3.92      -6.04     -22.27   \n",
       "2021     5.87       9.05       9.00       0.77      -2.66     -19.47   \n",
       "2023     7.44      11.40      10.20       2.44      -1.80     -16.94   \n",
       "2025     8.68      12.18      12.21       2.56      -1.53     -17.38   \n",
       "2027    10.07      16.06      16.72       7.61       5.27       3.98   \n",
       "\n",
       "      75k - 100k  100k - 200k  200k - 500k  500k - 1M  1M and above     All  \n",
       "2019      -21.52       -64.24       -59.57     -24.88        -34.10 -233.95  \n",
       "2021      -21.26       -63.99       -60.11     -24.08        -28.69 -195.57  \n",
       "2023      -18.47       -52.90       -50.01     -18.69        -13.10 -140.40  \n",
       "2025      -19.54       -55.47       -54.53     -20.00        -15.81 -148.62  \n",
       "2027       -1.39        -5.34        -5.19      -1.94         -5.78   40.11  "
      ]
     },
     "execution_count": 70,
     "metadata": {},
     "output_type": "execute_result"
    }
   ],
   "source": [
    "df2"
   ]
  },
  {
   "cell_type": "markdown",
   "metadata": {},
   "source": [
    "Here's the data plotted with the year on the x-axis and the amounts (in millions of USD) of revenue change for each income group.  Positive means that group is paying more taxes (as compared to <FIXME YEAR>) and negative means that group is paying less."
   ]
  },
  {
   "cell_type": "code",
   "execution_count": 42,
   "metadata": {
    "hideCode": false,
    "hidePrompt": true
   },
   "outputs": [
    {
     "data": {
      "application/vnd.plotly.v1+json": {
       "data": [
        {
         "marker": {
          "color": "blue",
          "size": 14,
          "symbol": "circle"
         },
         "mode": "lines+markers",
         "name": "0 - 10k",
         "x": [
          "2019",
          "2021",
          "2023",
          "2025",
          "2027"
         ],
         "y": [
          1.54,
          5.87,
          7.44,
          8.68,
          10.07
         ]
        },
        {
         "marker": {
          "color": "red",
          "size": 14,
          "symbol": "circle"
         },
         "mode": "lines+markers",
         "name": "10k - 20k",
         "x": [
          "2019",
          "2021",
          "2023",
          "2025",
          "2027"
         ],
         "y": [
          0.96,
          9.05,
          11.4,
          12.18,
          16.06
         ]
        },
        {
         "marker": {
          "color": "green",
          "size": 14,
          "symbol": "circle"
         },
         "mode": "lines+markers",
         "name": "20k - 30k",
         "x": [
          "2019",
          "2021",
          "2023",
          "2025",
          "2027"
         ],
         "y": [
          0.08,
          9,
          10.2,
          12.21,
          16.72
         ]
        },
        {
         "marker": {
          "color": "pink",
          "size": 14,
          "symbol": "circle"
         },
         "mode": "lines+markers",
         "name": "30k - 40k",
         "x": [
          "2019",
          "2021",
          "2023",
          "2025",
          "2027"
         ],
         "y": [
          -3.92,
          0.77,
          2.44,
          2.56,
          7.61
         ]
        },
        {
         "marker": {
          "color": "orange",
          "size": 14,
          "symbol": "circle"
         },
         "mode": "lines+markers",
         "name": "40k - 50k",
         "x": [
          "2019",
          "2021",
          "2023",
          "2025",
          "2027"
         ],
         "y": [
          -6.04,
          -2.66,
          -1.8,
          -1.53,
          5.27
         ]
        },
        {
         "marker": {
          "color": "blue",
          "size": 14,
          "symbol": "square"
         },
         "mode": "lines+markers",
         "name": "50k - 75k",
         "x": [
          "2019",
          "2021",
          "2023",
          "2025",
          "2027"
         ],
         "y": [
          -22.27,
          -19.47,
          -16.94,
          -17.38,
          3.98
         ]
        },
        {
         "marker": {
          "color": "red",
          "size": 14,
          "symbol": "square"
         },
         "mode": "lines+markers",
         "name": "75k - 100k",
         "x": [
          "2019",
          "2021",
          "2023",
          "2025",
          "2027"
         ],
         "y": [
          -21.52,
          -21.26,
          -18.47,
          -19.54,
          -1.39
         ]
        },
        {
         "marker": {
          "color": "green",
          "size": 14,
          "symbol": "square"
         },
         "mode": "lines+markers",
         "name": "100k - 200k",
         "x": [
          "2019",
          "2021",
          "2023",
          "2025",
          "2027"
         ],
         "y": [
          -64.24,
          -63.99,
          -52.9,
          -55.47,
          -5.34
         ]
        },
        {
         "marker": {
          "color": "pink",
          "size": 14,
          "symbol": "square"
         },
         "mode": "lines+markers",
         "name": "200k - 500k",
         "x": [
          "2019",
          "2021",
          "2023",
          "2025",
          "2027"
         ],
         "y": [
          -59.57,
          -60.11,
          -50.01,
          -54.53,
          -5.19
         ]
        },
        {
         "marker": {
          "color": "orange",
          "size": 14,
          "symbol": "square"
         },
         "mode": "lines+markers",
         "name": "500k - 1M",
         "x": [
          "2019",
          "2021",
          "2023",
          "2025",
          "2027"
         ],
         "y": [
          -24.88,
          -24.08,
          -18.69,
          -20,
          -1.94
         ]
        },
        {
         "marker": {
          "color": "blue",
          "size": 14,
          "symbol": "triangle-up"
         },
         "mode": "lines+markers",
         "name": "1M and above",
         "x": [
          "2019",
          "2021",
          "2023",
          "2025",
          "2027"
         ],
         "y": [
          -34.1,
          -28.69,
          -13.1,
          -15.81,
          -5.78
         ]
        }
       ],
       "layout": {}
      },
      "text/html": [
       "<div id=\"095f6426-4565-404d-985a-cde365e85976\" style=\"height: 525px; width: 100%;\" class=\"plotly-graph-div\"></div><script type=\"text/javascript\">require([\"plotly\"], function(Plotly) { window.PLOTLYENV=window.PLOTLYENV || {};window.PLOTLYENV.BASE_URL=\"https://plot.ly\";Plotly.newPlot(\"095f6426-4565-404d-985a-cde365e85976\", [{\"x\": [\"2019\", \"2021\", \"2023\", \"2025\", \"2027\"], \"y\": [1.54, 5.87, 7.44, 8.68, 10.07], \"name\": \"0 - 10k\", \"mode\": \"lines+markers\", \"marker\": {\"color\": \"blue\", \"symbol\": \"circle\", \"size\": 14}}, {\"x\": [\"2019\", \"2021\", \"2023\", \"2025\", \"2027\"], \"y\": [0.96, 9.05, 11.4, 12.18, 16.06], \"name\": \"10k - 20k\", \"mode\": \"lines+markers\", \"marker\": {\"color\": \"red\", \"symbol\": \"circle\", \"size\": 14}}, {\"x\": [\"2019\", \"2021\", \"2023\", \"2025\", \"2027\"], \"y\": [0.08, 9.0, 10.2, 12.21, 16.72], \"name\": \"20k - 30k\", \"mode\": \"lines+markers\", \"marker\": {\"color\": \"green\", \"symbol\": \"circle\", \"size\": 14}}, {\"x\": [\"2019\", \"2021\", \"2023\", \"2025\", \"2027\"], \"y\": [-3.92, 0.77, 2.44, 2.56, 7.61], \"name\": \"30k - 40k\", \"mode\": \"lines+markers\", \"marker\": {\"color\": \"pink\", \"symbol\": \"circle\", \"size\": 14}}, {\"x\": [\"2019\", \"2021\", \"2023\", \"2025\", \"2027\"], \"y\": [-6.04, -2.66, -1.8, -1.53, 5.27], \"name\": \"40k - 50k\", \"mode\": \"lines+markers\", \"marker\": {\"color\": \"orange\", \"symbol\": \"circle\", \"size\": 14}}, {\"x\": [\"2019\", \"2021\", \"2023\", \"2025\", \"2027\"], \"y\": [-22.27, -19.47, -16.94, -17.38, 3.98], \"name\": \"50k - 75k\", \"mode\": \"lines+markers\", \"marker\": {\"color\": \"blue\", \"symbol\": \"square\", \"size\": 14}}, {\"x\": [\"2019\", \"2021\", \"2023\", \"2025\", \"2027\"], \"y\": [-21.52, -21.26, -18.47, -19.54, -1.39], \"name\": \"75k - 100k\", \"mode\": \"lines+markers\", \"marker\": {\"color\": \"red\", \"symbol\": \"square\", \"size\": 14}}, {\"x\": [\"2019\", \"2021\", \"2023\", \"2025\", \"2027\"], \"y\": [-64.24, -63.99, -52.9, -55.47, -5.34], \"name\": \"100k - 200k\", \"mode\": \"lines+markers\", \"marker\": {\"color\": \"green\", \"symbol\": \"square\", \"size\": 14}}, {\"x\": [\"2019\", \"2021\", \"2023\", \"2025\", \"2027\"], \"y\": [-59.57, -60.11, -50.01, -54.53, -5.19], \"name\": \"200k - 500k\", \"mode\": \"lines+markers\", \"marker\": {\"color\": \"pink\", \"symbol\": \"square\", \"size\": 14}}, {\"x\": [\"2019\", \"2021\", \"2023\", \"2025\", \"2027\"], \"y\": [-24.88, -24.08, -18.69, -20.0, -1.94], \"name\": \"500k - 1M\", \"mode\": \"lines+markers\", \"marker\": {\"color\": \"orange\", \"symbol\": \"square\", \"size\": 14}}, {\"x\": [\"2019\", \"2021\", \"2023\", \"2025\", \"2027\"], \"y\": [-34.1, -28.69, -13.1, -15.81, -5.78], \"name\": \"1M and above\", \"mode\": \"lines+markers\", \"marker\": {\"color\": \"blue\", \"symbol\": \"triangle-up\", \"size\": 14}}], {}, {\"showLink\": true, \"linkText\": \"Export to plot.ly\"})});</script>"
      ],
      "text/vnd.plotly.v1+html": [
       "<div id=\"095f6426-4565-404d-985a-cde365e85976\" style=\"height: 525px; width: 100%;\" class=\"plotly-graph-div\"></div><script type=\"text/javascript\">require([\"plotly\"], function(Plotly) { window.PLOTLYENV=window.PLOTLYENV || {};window.PLOTLYENV.BASE_URL=\"https://plot.ly\";Plotly.newPlot(\"095f6426-4565-404d-985a-cde365e85976\", [{\"x\": [\"2019\", \"2021\", \"2023\", \"2025\", \"2027\"], \"y\": [1.54, 5.87, 7.44, 8.68, 10.07], \"name\": \"0 - 10k\", \"mode\": \"lines+markers\", \"marker\": {\"color\": \"blue\", \"symbol\": \"circle\", \"size\": 14}}, {\"x\": [\"2019\", \"2021\", \"2023\", \"2025\", \"2027\"], \"y\": [0.96, 9.05, 11.4, 12.18, 16.06], \"name\": \"10k - 20k\", \"mode\": \"lines+markers\", \"marker\": {\"color\": \"red\", \"symbol\": \"circle\", \"size\": 14}}, {\"x\": [\"2019\", \"2021\", \"2023\", \"2025\", \"2027\"], \"y\": [0.08, 9.0, 10.2, 12.21, 16.72], \"name\": \"20k - 30k\", \"mode\": \"lines+markers\", \"marker\": {\"color\": \"green\", \"symbol\": \"circle\", \"size\": 14}}, {\"x\": [\"2019\", \"2021\", \"2023\", \"2025\", \"2027\"], \"y\": [-3.92, 0.77, 2.44, 2.56, 7.61], \"name\": \"30k - 40k\", \"mode\": \"lines+markers\", \"marker\": {\"color\": \"pink\", \"symbol\": \"circle\", \"size\": 14}}, {\"x\": [\"2019\", \"2021\", \"2023\", \"2025\", \"2027\"], \"y\": [-6.04, -2.66, -1.8, -1.53, 5.27], \"name\": \"40k - 50k\", \"mode\": \"lines+markers\", \"marker\": {\"color\": \"orange\", \"symbol\": \"circle\", \"size\": 14}}, {\"x\": [\"2019\", \"2021\", \"2023\", \"2025\", \"2027\"], \"y\": [-22.27, -19.47, -16.94, -17.38, 3.98], \"name\": \"50k - 75k\", \"mode\": \"lines+markers\", \"marker\": {\"color\": \"blue\", \"symbol\": \"square\", \"size\": 14}}, {\"x\": [\"2019\", \"2021\", \"2023\", \"2025\", \"2027\"], \"y\": [-21.52, -21.26, -18.47, -19.54, -1.39], \"name\": \"75k - 100k\", \"mode\": \"lines+markers\", \"marker\": {\"color\": \"red\", \"symbol\": \"square\", \"size\": 14}}, {\"x\": [\"2019\", \"2021\", \"2023\", \"2025\", \"2027\"], \"y\": [-64.24, -63.99, -52.9, -55.47, -5.34], \"name\": \"100k - 200k\", \"mode\": \"lines+markers\", \"marker\": {\"color\": \"green\", \"symbol\": \"square\", \"size\": 14}}, {\"x\": [\"2019\", \"2021\", \"2023\", \"2025\", \"2027\"], \"y\": [-59.57, -60.11, -50.01, -54.53, -5.19], \"name\": \"200k - 500k\", \"mode\": \"lines+markers\", \"marker\": {\"color\": \"pink\", \"symbol\": \"square\", \"size\": 14}}, {\"x\": [\"2019\", \"2021\", \"2023\", \"2025\", \"2027\"], \"y\": [-24.88, -24.08, -18.69, -20.0, -1.94], \"name\": \"500k - 1M\", \"mode\": \"lines+markers\", \"marker\": {\"color\": \"orange\", \"symbol\": \"square\", \"size\": 14}}, {\"x\": [\"2019\", \"2021\", \"2023\", \"2025\", \"2027\"], \"y\": [-34.1, -28.69, -13.1, -15.81, -5.78], \"name\": \"1M and above\", \"mode\": \"lines+markers\", \"marker\": {\"color\": \"blue\", \"symbol\": \"triangle-up\", \"size\": 14}}], {}, {\"showLink\": true, \"linkText\": \"Export to plot.ly\"})});</script>"
      ]
     },
     "metadata": {},
     "output_type": "display_data"
    }
   ],
   "source": [
    "clist=['blue', 'red', 'green', 'pink', 'orange'] # colors\n",
    "slist=['circle', 'square', 'triangle-up'] # symbols\n",
    "# markers\n",
    "mlist = [dict(color=c, symbol=s, size=14) for s in slist for c in clist]\n",
    "\n",
    "iplot([{\n",
    "    'x': df2.index,\n",
    "    'y': df2[col],\n",
    "    'name': col,\n",
    "    'mode': 'lines+markers',\n",
    "    'marker': mlist[idx]\n",
    "}  for idx,col in enumerate(df2.columns[0:-1])], filename='cufflinks/simple-line')"
   ]
  },
  {
   "cell_type": "markdown",
   "metadata": {},
   "source": [
    "It looks like there are roughly three groups:\n",
    "* \\$0 - \\$50k\n",
    "* \\$50k - \\$100k + \\$500k and above\n",
    "* \\$100k - \\$500k\n",
    "\n",
    "If we look at the cumulative sum (across the years) we get the following table:"
   ]
  },
  {
   "cell_type": "code",
   "execution_count": 72,
   "metadata": {
    "hideCode": false,
    "hidePrompt": true
   },
   "outputs": [
    {
     "data": {
      "text/html": [
       "<div>\n",
       "<table border=\"1\" class=\"dataframe\">\n",
       "  <thead>\n",
       "    <tr style=\"text-align: right;\">\n",
       "      <th></th>\n",
       "      <th>0 - 10k</th>\n",
       "      <th>10k - 20k</th>\n",
       "      <th>20k - 30k</th>\n",
       "      <th>30k - 40k</th>\n",
       "      <th>40k - 50k</th>\n",
       "      <th>50k - 75k</th>\n",
       "      <th>75k - 100k</th>\n",
       "      <th>100k - 200k</th>\n",
       "      <th>200k - 500k</th>\n",
       "      <th>500k - 1M</th>\n",
       "      <th>1M and above</th>\n",
       "      <th>All</th>\n",
       "    </tr>\n",
       "  </thead>\n",
       "  <tbody>\n",
       "    <tr>\n",
       "      <th>2019</th>\n",
       "      <td>1.54</td>\n",
       "      <td>0.96</td>\n",
       "      <td>0.08</td>\n",
       "      <td>-3.92</td>\n",
       "      <td>-6.04</td>\n",
       "      <td>-22.27</td>\n",
       "      <td>-21.52</td>\n",
       "      <td>-64.24</td>\n",
       "      <td>-59.57</td>\n",
       "      <td>-24.88</td>\n",
       "      <td>-34.10</td>\n",
       "      <td>-233.95</td>\n",
       "    </tr>\n",
       "    <tr>\n",
       "      <th>2021</th>\n",
       "      <td>7.41</td>\n",
       "      <td>10.01</td>\n",
       "      <td>9.08</td>\n",
       "      <td>-3.15</td>\n",
       "      <td>-8.70</td>\n",
       "      <td>-41.74</td>\n",
       "      <td>-42.78</td>\n",
       "      <td>-128.23</td>\n",
       "      <td>-119.68</td>\n",
       "      <td>-48.96</td>\n",
       "      <td>-62.79</td>\n",
       "      <td>-429.52</td>\n",
       "    </tr>\n",
       "    <tr>\n",
       "      <th>2023</th>\n",
       "      <td>14.85</td>\n",
       "      <td>21.41</td>\n",
       "      <td>19.28</td>\n",
       "      <td>-0.71</td>\n",
       "      <td>-10.50</td>\n",
       "      <td>-58.68</td>\n",
       "      <td>-61.25</td>\n",
       "      <td>-181.13</td>\n",
       "      <td>-169.69</td>\n",
       "      <td>-67.65</td>\n",
       "      <td>-75.89</td>\n",
       "      <td>-569.92</td>\n",
       "    </tr>\n",
       "    <tr>\n",
       "      <th>2025</th>\n",
       "      <td>23.53</td>\n",
       "      <td>33.59</td>\n",
       "      <td>31.49</td>\n",
       "      <td>1.85</td>\n",
       "      <td>-12.03</td>\n",
       "      <td>-76.06</td>\n",
       "      <td>-80.79</td>\n",
       "      <td>-236.60</td>\n",
       "      <td>-224.22</td>\n",
       "      <td>-87.65</td>\n",
       "      <td>-91.70</td>\n",
       "      <td>-718.54</td>\n",
       "    </tr>\n",
       "    <tr>\n",
       "      <th>2027</th>\n",
       "      <td>33.60</td>\n",
       "      <td>49.65</td>\n",
       "      <td>48.21</td>\n",
       "      <td>9.46</td>\n",
       "      <td>-6.76</td>\n",
       "      <td>-72.08</td>\n",
       "      <td>-82.18</td>\n",
       "      <td>-241.94</td>\n",
       "      <td>-229.41</td>\n",
       "      <td>-89.59</td>\n",
       "      <td>-97.48</td>\n",
       "      <td>-678.43</td>\n",
       "    </tr>\n",
       "  </tbody>\n",
       "</table>\n",
       "</div>"
      ],
      "text/plain": [
       "      0 - 10k  10k - 20k  20k - 30k  30k - 40k  40k - 50k  50k - 75k  \\\n",
       "2019     1.54       0.96       0.08      -3.92      -6.04     -22.27   \n",
       "2021     7.41      10.01       9.08      -3.15      -8.70     -41.74   \n",
       "2023    14.85      21.41      19.28      -0.71     -10.50     -58.68   \n",
       "2025    23.53      33.59      31.49       1.85     -12.03     -76.06   \n",
       "2027    33.60      49.65      48.21       9.46      -6.76     -72.08   \n",
       "\n",
       "      75k - 100k  100k - 200k  200k - 500k  500k - 1M  1M and above     All  \n",
       "2019      -21.52       -64.24       -59.57     -24.88        -34.10 -233.95  \n",
       "2021      -42.78      -128.23      -119.68     -48.96        -62.79 -429.52  \n",
       "2023      -61.25      -181.13      -169.69     -67.65        -75.89 -569.92  \n",
       "2025      -80.79      -236.60      -224.22     -87.65        -91.70 -718.54  \n",
       "2027      -82.18      -241.94      -229.41     -89.59        -97.48 -678.43  "
      ]
     },
     "execution_count": 72,
     "metadata": {},
     "output_type": "execute_result"
    }
   ],
   "source": [
    "df2.cumsum()"
   ]
  },
  {
   "cell_type": "code",
   "execution_count": 73,
   "metadata": {},
   "outputs": [
    {
     "data": {
      "application/vnd.plotly.v1+json": {
       "data": [
        {
         "marker": {
          "color": "blue",
          "size": 14,
          "symbol": "circle"
         },
         "mode": "lines+markers",
         "name": "0 - 10k",
         "x": [
          "2019",
          "2021",
          "2023",
          "2025",
          "2027"
         ],
         "y": [
          1.54,
          7.41,
          14.850000000000001,
          23.53,
          33.6
         ]
        },
        {
         "marker": {
          "color": "red",
          "size": 14,
          "symbol": "circle"
         },
         "mode": "lines+markers",
         "name": "10k - 20k",
         "x": [
          "2019",
          "2021",
          "2023",
          "2025",
          "2027"
         ],
         "y": [
          0.96,
          10.010000000000002,
          21.410000000000004,
          33.59,
          49.650000000000006
         ]
        },
        {
         "marker": {
          "color": "green",
          "size": 14,
          "symbol": "circle"
         },
         "mode": "lines+markers",
         "name": "20k - 30k",
         "x": [
          "2019",
          "2021",
          "2023",
          "2025",
          "2027"
         ],
         "y": [
          0.08,
          9.08,
          19.28,
          31.490000000000002,
          48.21
         ]
        },
        {
         "marker": {
          "color": "pink",
          "size": 14,
          "symbol": "circle"
         },
         "mode": "lines+markers",
         "name": "30k - 40k",
         "x": [
          "2019",
          "2021",
          "2023",
          "2025",
          "2027"
         ],
         "y": [
          -3.92,
          -3.15,
          -0.71,
          1.85,
          9.46
         ]
        },
        {
         "marker": {
          "color": "orange",
          "size": 14,
          "symbol": "circle"
         },
         "mode": "lines+markers",
         "name": "40k - 50k",
         "x": [
          "2019",
          "2021",
          "2023",
          "2025",
          "2027"
         ],
         "y": [
          -6.04,
          -8.7,
          -10.5,
          -12.03,
          -6.76
         ]
        },
        {
         "marker": {
          "color": "blue",
          "size": 14,
          "symbol": "square"
         },
         "mode": "lines+markers",
         "name": "50k - 75k",
         "x": [
          "2019",
          "2021",
          "2023",
          "2025",
          "2027"
         ],
         "y": [
          -22.27,
          -41.739999999999995,
          -58.67999999999999,
          -76.05999999999999,
          -72.07999999999998
         ]
        },
        {
         "marker": {
          "color": "red",
          "size": 14,
          "symbol": "square"
         },
         "mode": "lines+markers",
         "name": "75k - 100k",
         "x": [
          "2019",
          "2021",
          "2023",
          "2025",
          "2027"
         ],
         "y": [
          -21.52,
          -42.78,
          -61.25,
          -80.78999999999999,
          -82.17999999999999
         ]
        },
        {
         "marker": {
          "color": "green",
          "size": 14,
          "symbol": "square"
         },
         "mode": "lines+markers",
         "name": "100k - 200k",
         "x": [
          "2019",
          "2021",
          "2023",
          "2025",
          "2027"
         ],
         "y": [
          -64.24,
          -128.23,
          -181.13,
          -236.6,
          -241.94
         ]
        },
        {
         "marker": {
          "color": "pink",
          "size": 14,
          "symbol": "square"
         },
         "mode": "lines+markers",
         "name": "200k - 500k",
         "x": [
          "2019",
          "2021",
          "2023",
          "2025",
          "2027"
         ],
         "y": [
          -59.57,
          -119.68,
          -169.69,
          -224.22,
          -229.41
         ]
        },
        {
         "marker": {
          "color": "orange",
          "size": 14,
          "symbol": "square"
         },
         "mode": "lines+markers",
         "name": "500k - 1M",
         "x": [
          "2019",
          "2021",
          "2023",
          "2025",
          "2027"
         ],
         "y": [
          -24.88,
          -48.959999999999994,
          -67.64999999999999,
          -87.64999999999999,
          -89.58999999999999
         ]
        },
        {
         "marker": {
          "color": "blue",
          "size": 14,
          "symbol": "triangle-up"
         },
         "mode": "lines+markers",
         "name": "1M and above",
         "x": [
          "2019",
          "2021",
          "2023",
          "2025",
          "2027"
         ],
         "y": [
          -34.1,
          -62.790000000000006,
          -75.89,
          -91.7,
          -97.48
         ]
        }
       ],
       "layout": {}
      },
      "text/html": [
       "<div id=\"9d16c5c2-20f1-4973-acbd-73464a34e78b\" style=\"height: 525px; width: 100%;\" class=\"plotly-graph-div\"></div><script type=\"text/javascript\">require([\"plotly\"], function(Plotly) { window.PLOTLYENV=window.PLOTLYENV || {};window.PLOTLYENV.BASE_URL=\"https://plot.ly\";Plotly.newPlot(\"9d16c5c2-20f1-4973-acbd-73464a34e78b\", [{\"x\": [\"2019\", \"2021\", \"2023\", \"2025\", \"2027\"], \"y\": [1.54, 7.41, 14.850000000000001, 23.53, 33.6], \"name\": \"0 - 10k\", \"mode\": \"lines+markers\", \"marker\": {\"color\": \"blue\", \"symbol\": \"circle\", \"size\": 14}}, {\"x\": [\"2019\", \"2021\", \"2023\", \"2025\", \"2027\"], \"y\": [0.96, 10.010000000000002, 21.410000000000004, 33.59, 49.650000000000006], \"name\": \"10k - 20k\", \"mode\": \"lines+markers\", \"marker\": {\"color\": \"red\", \"symbol\": \"circle\", \"size\": 14}}, {\"x\": [\"2019\", \"2021\", \"2023\", \"2025\", \"2027\"], \"y\": [0.08, 9.08, 19.28, 31.490000000000002, 48.21], \"name\": \"20k - 30k\", \"mode\": \"lines+markers\", \"marker\": {\"color\": \"green\", \"symbol\": \"circle\", \"size\": 14}}, {\"x\": [\"2019\", \"2021\", \"2023\", \"2025\", \"2027\"], \"y\": [-3.92, -3.15, -0.71, 1.85, 9.46], \"name\": \"30k - 40k\", \"mode\": \"lines+markers\", \"marker\": {\"color\": \"pink\", \"symbol\": \"circle\", \"size\": 14}}, {\"x\": [\"2019\", \"2021\", \"2023\", \"2025\", \"2027\"], \"y\": [-6.04, -8.7, -10.5, -12.03, -6.76], \"name\": \"40k - 50k\", \"mode\": \"lines+markers\", \"marker\": {\"color\": \"orange\", \"symbol\": \"circle\", \"size\": 14}}, {\"x\": [\"2019\", \"2021\", \"2023\", \"2025\", \"2027\"], \"y\": [-22.27, -41.739999999999995, -58.67999999999999, -76.05999999999999, -72.07999999999998], \"name\": \"50k - 75k\", \"mode\": \"lines+markers\", \"marker\": {\"color\": \"blue\", \"symbol\": \"square\", \"size\": 14}}, {\"x\": [\"2019\", \"2021\", \"2023\", \"2025\", \"2027\"], \"y\": [-21.52, -42.78, -61.25, -80.78999999999999, -82.17999999999999], \"name\": \"75k - 100k\", \"mode\": \"lines+markers\", \"marker\": {\"color\": \"red\", \"symbol\": \"square\", \"size\": 14}}, {\"x\": [\"2019\", \"2021\", \"2023\", \"2025\", \"2027\"], \"y\": [-64.24, -128.23, -181.13, -236.6, -241.94], \"name\": \"100k - 200k\", \"mode\": \"lines+markers\", \"marker\": {\"color\": \"green\", \"symbol\": \"square\", \"size\": 14}}, {\"x\": [\"2019\", \"2021\", \"2023\", \"2025\", \"2027\"], \"y\": [-59.57, -119.68, -169.69, -224.22, -229.41], \"name\": \"200k - 500k\", \"mode\": \"lines+markers\", \"marker\": {\"color\": \"pink\", \"symbol\": \"square\", \"size\": 14}}, {\"x\": [\"2019\", \"2021\", \"2023\", \"2025\", \"2027\"], \"y\": [-24.88, -48.959999999999994, -67.64999999999999, -87.64999999999999, -89.58999999999999], \"name\": \"500k - 1M\", \"mode\": \"lines+markers\", \"marker\": {\"color\": \"orange\", \"symbol\": \"square\", \"size\": 14}}, {\"x\": [\"2019\", \"2021\", \"2023\", \"2025\", \"2027\"], \"y\": [-34.1, -62.790000000000006, -75.89, -91.7, -97.48], \"name\": \"1M and above\", \"mode\": \"lines+markers\", \"marker\": {\"color\": \"blue\", \"symbol\": \"triangle-up\", \"size\": 14}}], {}, {\"showLink\": true, \"linkText\": \"Export to plot.ly\"})});</script>"
      ],
      "text/vnd.plotly.v1+html": [
       "<div id=\"9d16c5c2-20f1-4973-acbd-73464a34e78b\" style=\"height: 525px; width: 100%;\" class=\"plotly-graph-div\"></div><script type=\"text/javascript\">require([\"plotly\"], function(Plotly) { window.PLOTLYENV=window.PLOTLYENV || {};window.PLOTLYENV.BASE_URL=\"https://plot.ly\";Plotly.newPlot(\"9d16c5c2-20f1-4973-acbd-73464a34e78b\", [{\"x\": [\"2019\", \"2021\", \"2023\", \"2025\", \"2027\"], \"y\": [1.54, 7.41, 14.850000000000001, 23.53, 33.6], \"name\": \"0 - 10k\", \"mode\": \"lines+markers\", \"marker\": {\"color\": \"blue\", \"symbol\": \"circle\", \"size\": 14}}, {\"x\": [\"2019\", \"2021\", \"2023\", \"2025\", \"2027\"], \"y\": [0.96, 10.010000000000002, 21.410000000000004, 33.59, 49.650000000000006], \"name\": \"10k - 20k\", \"mode\": \"lines+markers\", \"marker\": {\"color\": \"red\", \"symbol\": \"circle\", \"size\": 14}}, {\"x\": [\"2019\", \"2021\", \"2023\", \"2025\", \"2027\"], \"y\": [0.08, 9.08, 19.28, 31.490000000000002, 48.21], \"name\": \"20k - 30k\", \"mode\": \"lines+markers\", \"marker\": {\"color\": \"green\", \"symbol\": \"circle\", \"size\": 14}}, {\"x\": [\"2019\", \"2021\", \"2023\", \"2025\", \"2027\"], \"y\": [-3.92, -3.15, -0.71, 1.85, 9.46], \"name\": \"30k - 40k\", \"mode\": \"lines+markers\", \"marker\": {\"color\": \"pink\", \"symbol\": \"circle\", \"size\": 14}}, {\"x\": [\"2019\", \"2021\", \"2023\", \"2025\", \"2027\"], \"y\": [-6.04, -8.7, -10.5, -12.03, -6.76], \"name\": \"40k - 50k\", \"mode\": \"lines+markers\", \"marker\": {\"color\": \"orange\", \"symbol\": \"circle\", \"size\": 14}}, {\"x\": [\"2019\", \"2021\", \"2023\", \"2025\", \"2027\"], \"y\": [-22.27, -41.739999999999995, -58.67999999999999, -76.05999999999999, -72.07999999999998], \"name\": \"50k - 75k\", \"mode\": \"lines+markers\", \"marker\": {\"color\": \"blue\", \"symbol\": \"square\", \"size\": 14}}, {\"x\": [\"2019\", \"2021\", \"2023\", \"2025\", \"2027\"], \"y\": [-21.52, -42.78, -61.25, -80.78999999999999, -82.17999999999999], \"name\": \"75k - 100k\", \"mode\": \"lines+markers\", \"marker\": {\"color\": \"red\", \"symbol\": \"square\", \"size\": 14}}, {\"x\": [\"2019\", \"2021\", \"2023\", \"2025\", \"2027\"], \"y\": [-64.24, -128.23, -181.13, -236.6, -241.94], \"name\": \"100k - 200k\", \"mode\": \"lines+markers\", \"marker\": {\"color\": \"green\", \"symbol\": \"square\", \"size\": 14}}, {\"x\": [\"2019\", \"2021\", \"2023\", \"2025\", \"2027\"], \"y\": [-59.57, -119.68, -169.69, -224.22, -229.41], \"name\": \"200k - 500k\", \"mode\": \"lines+markers\", \"marker\": {\"color\": \"pink\", \"symbol\": \"square\", \"size\": 14}}, {\"x\": [\"2019\", \"2021\", \"2023\", \"2025\", \"2027\"], \"y\": [-24.88, -48.959999999999994, -67.64999999999999, -87.64999999999999, -89.58999999999999], \"name\": \"500k - 1M\", \"mode\": \"lines+markers\", \"marker\": {\"color\": \"orange\", \"symbol\": \"square\", \"size\": 14}}, {\"x\": [\"2019\", \"2021\", \"2023\", \"2025\", \"2027\"], \"y\": [-34.1, -62.790000000000006, -75.89, -91.7, -97.48], \"name\": \"1M and above\", \"mode\": \"lines+markers\", \"marker\": {\"color\": \"blue\", \"symbol\": \"triangle-up\", \"size\": 14}}], {}, {\"showLink\": true, \"linkText\": \"Export to plot.ly\"})});</script>"
      ]
     },
     "metadata": {},
     "output_type": "display_data"
    }
   ],
   "source": [
    "iplot([{\n",
    "    'x': df2.index,\n",
    "    'y': df2.cumsum()[col],\n",
    "    'name': col,\n",
    "    'mode': 'lines+markers',\n",
    "    'marker': mlist[idx]\n",
    "}  for idx,col in enumerate(df2.cumsum().columns[0:-1])], filename='cufflinks/simple-line')"
   ]
  },
  {
   "cell_type": "markdown",
   "metadata": {},
   "source": [
    "This seems to 'smooth out' the clustering of the 3 groups, which makes sense given that a cumulative sum is inherently some form of a 'low-pass-filter'.  What about a bar chart of the final row of the cumulative sum?  I'm glad I asked."
   ]
  },
  {
   "cell_type": "code",
   "execution_count": 74,
   "metadata": {
    "hideCode": true,
    "hidePrompt": true
   },
   "outputs": [
    {
     "data": {
      "application/vnd.plotly.v1+json": {
       "data": [
        {
         "type": "bar",
         "x": [
          "0 - 10k",
          "10k - 20k",
          "20k - 30k",
          "30k - 40k",
          "40k - 50k",
          "50k - 75k",
          "75k - 100k",
          "100k - 200k",
          "200k - 500k",
          "500k - 1M",
          "1M and above"
         ],
         "y": [
          33.6,
          49.650000000000006,
          48.21,
          9.46,
          -6.76,
          -72.07999999999998,
          -82.17999999999999,
          -241.94,
          -229.41,
          -89.58999999999999,
          -97.48
         ]
        }
       ],
       "layout": {}
      },
      "text/html": [
       "<div id=\"9874e160-fd77-43f8-b064-59a650584ef8\" style=\"height: 525px; width: 100%;\" class=\"plotly-graph-div\"></div><script type=\"text/javascript\">require([\"plotly\"], function(Plotly) { window.PLOTLYENV=window.PLOTLYENV || {};window.PLOTLYENV.BASE_URL=\"https://plot.ly\";Plotly.newPlot(\"9874e160-fd77-43f8-b064-59a650584ef8\", [{\"type\": \"bar\", \"x\": [\"0 - 10k\", \"10k - 20k\", \"20k - 30k\", \"30k - 40k\", \"40k - 50k\", \"50k - 75k\", \"75k - 100k\", \"100k - 200k\", \"200k - 500k\", \"500k - 1M\", \"1M and above\"], \"y\": [33.6, 49.650000000000006, 48.21, 9.46, -6.76, -72.07999999999998, -82.17999999999999, -241.94, -229.41, -89.58999999999999, -97.48]}], {}, {\"showLink\": true, \"linkText\": \"Export to plot.ly\"})});</script>"
      ],
      "text/vnd.plotly.v1+html": [
       "<div id=\"9874e160-fd77-43f8-b064-59a650584ef8\" style=\"height: 525px; width: 100%;\" class=\"plotly-graph-div\"></div><script type=\"text/javascript\">require([\"plotly\"], function(Plotly) { window.PLOTLYENV=window.PLOTLYENV || {};window.PLOTLYENV.BASE_URL=\"https://plot.ly\";Plotly.newPlot(\"9874e160-fd77-43f8-b064-59a650584ef8\", [{\"type\": \"bar\", \"x\": [\"0 - 10k\", \"10k - 20k\", \"20k - 30k\", \"30k - 40k\", \"40k - 50k\", \"50k - 75k\", \"75k - 100k\", \"100k - 200k\", \"200k - 500k\", \"500k - 1M\", \"1M and above\"], \"y\": [33.6, 49.650000000000006, 48.21, 9.46, -6.76, -72.07999999999998, -82.17999999999999, -241.94, -229.41, -89.58999999999999, -97.48]}], {}, {\"showLink\": true, \"linkText\": \"Export to plot.ly\"})});</script>"
      ]
     },
     "metadata": {},
     "output_type": "display_data"
    }
   ],
   "source": [
    "iplot([go.Bar(\n",
    "    x = df2.columns[0:-1],\n",
    "    y = list(df2.cumsum().iloc[-1, 0:-1]))])"
   ]
  },
  {
   "cell_type": "markdown",
   "metadata": {},
   "source": [
    "If this is a game, then \\$100k - \\$500k certainly appear to be the winners.  But presumably, there are different numbers of people in eache income bracket.  What if we simply divide our data by the population of each income bracket, and normalize this data, per person. I found population information as a function of income bracket from the [2016 American Community Survey's Public Use Microdata Sample.](https://www.census.gov/programs-surveys/acs/data/pums.html)\n",
    "\n",
    "After putting that data in to the same bins as the CBO table above, we can see the population of each income bracket in units of <FIXME household/people>:"
   ]
  },
  {
   "cell_type": "code",
   "execution_count": 76,
   "metadata": {},
   "outputs": [],
   "source": [
    "pa = pd.read_csv('ss16pusa.csv')\n",
    "#dfpop = df.read_csv('FIXME')"
   ]
  },
  {
   "cell_type": "code",
   "execution_count": 86,
   "metadata": {},
   "outputs": [
    {
     "data": {
      "text/plain": [
       "pandas.core.series.Series"
      ]
     },
     "execution_count": 86,
     "metadata": {},
     "output_type": "execute_result"
    }
   ],
   "source": [
    "# iplot([go.Histogram(\n",
    "ranges = [0,10,20,30,40,50,75,100,200,500,10000,1e15]\n",
    "ranges = zip(ranges[0:-1], ranges[1:])\n",
    "df.groupby(pd.cut(df.a, ranges)).count()\n",
    "type(pa['ADJINC'])\n",
    "# )])"
   ]
  },
  {
   "cell_type": "code",
   "execution_count": null,
   "metadata": {
    "collapsed": true
   },
   "outputs": [],
   "source": []
  }
 ],
 "metadata": {
  "celltoolbar": "Hide code",
  "kernelspec": {
   "display_name": "Python 3",
   "language": "python",
   "name": "python3"
  },
  "language_info": {
   "codemirror_mode": {
    "name": "ipython",
    "version": 3
   },
   "file_extension": ".py",
   "mimetype": "text/x-python",
   "name": "python",
   "nbconvert_exporter": "python",
   "pygments_lexer": "ipython3",
   "version": "3.6.1"
  }
 },
 "nbformat": 4,
 "nbformat_minor": 2
}
