{
 "cells": [
  {
   "cell_type": "code",
   "execution_count": 154,
   "metadata": {},
   "outputs": [
    {
     "name": "stdout",
     "output_type": "stream",
     "text": [
      "2.2.2\n"
     ]
    },
    {
     "data": {
      "text/html": [
       "<script>requirejs.config({paths: { 'plotly': ['https://cdn.plot.ly/plotly-latest.min']},});if(!window.Plotly) {{require(['plotly'],function(plotly) {window.Plotly=plotly;});}}</script>"
      ],
      "text/vnd.plotly.v1+html": [
       "<script>requirejs.config({paths: { 'plotly': ['https://cdn.plot.ly/plotly-latest.min']},});if(!window.Plotly) {{require(['plotly'],function(plotly) {window.Plotly=plotly;});}}</script>"
      ]
     },
     "metadata": {},
     "output_type": "display_data"
    }
   ],
   "source": [
    "import plotly\n",
    "import plotly.graph_objs as go\n",
    "from plotly.offline import download_plotlyjs, init_notebook_mode, plot, iplot\n",
    "\n",
    "print(plotly.__version__) # requires version >= 1.9.0\n",
    "init_notebook_mode(connected=True)"
   ]
  },
  {
   "cell_type": "code",
   "execution_count": 155,
   "metadata": {},
   "outputs": [
    {
     "name": "stderr",
     "output_type": "stream",
     "text": [
      "IOPub data rate exceeded.\n",
      "The notebook server will temporarily stop sending output\n",
      "to the client in order to avoid crashing it.\n",
      "To change this limit, set the config variable\n",
      "`--NotebookApp.iopub_data_rate_limit`.\n"
     ]
    }
   ],
   "source": [
    "import pandas as pd\n",
    "import cufflinks as cf\n",
    "cf.set_config_file(offline=True, world_readable=True, theme='ggplot')"
   ]
  },
  {
   "cell_type": "code",
   "execution_count": 156,
   "metadata": {},
   "outputs": [
    {
     "data": {
      "text/html": [
       "<div>\n",
       "<style>\n",
       "    .dataframe thead tr:only-child th {\n",
       "        text-align: right;\n",
       "    }\n",
       "\n",
       "    .dataframe thead th {\n",
       "        text-align: left;\n",
       "    }\n",
       "\n",
       "    .dataframe tbody tr th {\n",
       "        vertical-align: top;\n",
       "    }\n",
       "</style>\n",
       "<table border=\"1\" class=\"dataframe\">\n",
       "  <thead>\n",
       "    <tr style=\"text-align: right;\">\n",
       "      <th></th>\n",
       "      <th>Income</th>\n",
       "      <th>2019</th>\n",
       "      <th>2021</th>\n",
       "      <th>2023</th>\n",
       "      <th>2025</th>\n",
       "      <th>2027</th>\n",
       "    </tr>\n",
       "  </thead>\n",
       "  <tbody>\n",
       "    <tr>\n",
       "      <th>0</th>\n",
       "      <td>0 - 10k</td>\n",
       "      <td>1540</td>\n",
       "      <td>5870</td>\n",
       "      <td>7440</td>\n",
       "      <td>8680</td>\n",
       "      <td>10070</td>\n",
       "    </tr>\n",
       "    <tr>\n",
       "      <th>1</th>\n",
       "      <td>10k - 20k</td>\n",
       "      <td>960</td>\n",
       "      <td>9050</td>\n",
       "      <td>11400</td>\n",
       "      <td>12180</td>\n",
       "      <td>16060</td>\n",
       "    </tr>\n",
       "    <tr>\n",
       "      <th>2</th>\n",
       "      <td>20k - 30k</td>\n",
       "      <td>80</td>\n",
       "      <td>9000</td>\n",
       "      <td>10200</td>\n",
       "      <td>12210</td>\n",
       "      <td>16720</td>\n",
       "    </tr>\n",
       "    <tr>\n",
       "      <th>3</th>\n",
       "      <td>30k - 40k</td>\n",
       "      <td>-3920</td>\n",
       "      <td>770</td>\n",
       "      <td>2440</td>\n",
       "      <td>2560</td>\n",
       "      <td>7610</td>\n",
       "    </tr>\n",
       "    <tr>\n",
       "      <th>4</th>\n",
       "      <td>40k - 50k</td>\n",
       "      <td>-6040</td>\n",
       "      <td>-2660</td>\n",
       "      <td>-1800</td>\n",
       "      <td>-1530</td>\n",
       "      <td>5270</td>\n",
       "    </tr>\n",
       "    <tr>\n",
       "      <th>5</th>\n",
       "      <td>50k - 75k</td>\n",
       "      <td>-22270</td>\n",
       "      <td>-19470</td>\n",
       "      <td>-16940</td>\n",
       "      <td>-17380</td>\n",
       "      <td>3980</td>\n",
       "    </tr>\n",
       "    <tr>\n",
       "      <th>6</th>\n",
       "      <td>75k - 100k</td>\n",
       "      <td>-21520</td>\n",
       "      <td>-21260</td>\n",
       "      <td>-18470</td>\n",
       "      <td>-19540</td>\n",
       "      <td>-1390</td>\n",
       "    </tr>\n",
       "    <tr>\n",
       "      <th>7</th>\n",
       "      <td>100k - 200k</td>\n",
       "      <td>-64240</td>\n",
       "      <td>-63990</td>\n",
       "      <td>-52900</td>\n",
       "      <td>-55470</td>\n",
       "      <td>-5340</td>\n",
       "    </tr>\n",
       "    <tr>\n",
       "      <th>8</th>\n",
       "      <td>200k - 500k</td>\n",
       "      <td>-59570</td>\n",
       "      <td>-60110</td>\n",
       "      <td>-50010</td>\n",
       "      <td>-54530</td>\n",
       "      <td>-5190</td>\n",
       "    </tr>\n",
       "    <tr>\n",
       "      <th>9</th>\n",
       "      <td>500k - 1M</td>\n",
       "      <td>-24880</td>\n",
       "      <td>-24080</td>\n",
       "      <td>-18690</td>\n",
       "      <td>-20000</td>\n",
       "      <td>-1940</td>\n",
       "    </tr>\n",
       "    <tr>\n",
       "      <th>10</th>\n",
       "      <td>1M and above</td>\n",
       "      <td>-34100</td>\n",
       "      <td>-28690</td>\n",
       "      <td>-13100</td>\n",
       "      <td>-15810</td>\n",
       "      <td>-5780</td>\n",
       "    </tr>\n",
       "    <tr>\n",
       "      <th>11</th>\n",
       "      <td>All</td>\n",
       "      <td>-233950</td>\n",
       "      <td>-195570</td>\n",
       "      <td>-140400</td>\n",
       "      <td>-148620</td>\n",
       "      <td>40110</td>\n",
       "    </tr>\n",
       "  </tbody>\n",
       "</table>\n",
       "</div>"
      ],
      "text/plain": [
       "          Income    2019    2021    2023    2025   2027\n",
       "0        0 - 10k    1540    5870    7440    8680  10070\n",
       "1      10k - 20k     960    9050   11400   12180  16060\n",
       "2      20k - 30k      80    9000   10200   12210  16720\n",
       "3      30k - 40k   -3920     770    2440    2560   7610\n",
       "4      40k - 50k   -6040   -2660   -1800   -1530   5270\n",
       "5      50k - 75k  -22270  -19470  -16940  -17380   3980\n",
       "6     75k - 100k  -21520  -21260  -18470  -19540  -1390\n",
       "7    100k - 200k  -64240  -63990  -52900  -55470  -5340\n",
       "8    200k - 500k  -59570  -60110  -50010  -54530  -5190\n",
       "9      500k - 1M  -24880  -24080  -18690  -20000  -1940\n",
       "10  1M and above  -34100  -28690  -13100  -15810  -5780\n",
       "11           All -233950 -195570 -140400 -148620  40110"
      ]
     },
     "execution_count": 156,
     "metadata": {},
     "output_type": "execute_result"
    }
   ],
   "source": [
    "df = pd.read_csv('cbo.csv')\n",
    "df"
   ]
  },
  {
   "cell_type": "code",
   "execution_count": 157,
   "metadata": {},
   "outputs": [
    {
     "data": {
      "text/plain": [
       "Index(['2019', '2021', '2023', '2025', '2027'], dtype='object')"
      ]
     },
     "execution_count": 157,
     "metadata": {},
     "output_type": "execute_result"
    }
   ],
   "source": [
    "df.columns[1:]"
   ]
  },
  {
   "cell_type": "code",
   "execution_count": 158,
   "metadata": {},
   "outputs": [
    {
     "data": {
      "text/plain": [
       "['0 - 10k',\n",
       " '10k - 20k',\n",
       " '20k - 30k',\n",
       " '30k - 40k',\n",
       " '40k - 50k',\n",
       " '50k - 75k',\n",
       " '75k - 100k',\n",
       " '100k - 200k',\n",
       " '200k - 500k',\n",
       " '500k - 1M',\n",
       " '1M and above',\n",
       " 'All']"
      ]
     },
     "execution_count": 158,
     "metadata": {},
     "output_type": "execute_result"
    }
   ],
   "source": [
    "list(df['Income'])"
   ]
  },
  {
   "cell_type": "code",
   "execution_count": 159,
   "metadata": {},
   "outputs": [
    {
     "data": {
      "text/html": [
       "<div>\n",
       "<style>\n",
       "    .dataframe thead tr:only-child th {\n",
       "        text-align: right;\n",
       "    }\n",
       "\n",
       "    .dataframe thead th {\n",
       "        text-align: left;\n",
       "    }\n",
       "\n",
       "    .dataframe tbody tr th {\n",
       "        vertical-align: top;\n",
       "    }\n",
       "</style>\n",
       "<table border=\"1\" class=\"dataframe\">\n",
       "  <thead>\n",
       "    <tr style=\"text-align: right;\">\n",
       "      <th></th>\n",
       "      <th>0 - 10k</th>\n",
       "      <th>10k - 20k</th>\n",
       "      <th>20k - 30k</th>\n",
       "      <th>30k - 40k</th>\n",
       "      <th>40k - 50k</th>\n",
       "      <th>50k - 75k</th>\n",
       "      <th>75k - 100k</th>\n",
       "      <th>100k - 200k</th>\n",
       "      <th>200k - 500k</th>\n",
       "      <th>500k - 1M</th>\n",
       "      <th>1M and above</th>\n",
       "      <th>All</th>\n",
       "    </tr>\n",
       "  </thead>\n",
       "  <tbody>\n",
       "    <tr>\n",
       "      <th>2019</th>\n",
       "      <td>1.54</td>\n",
       "      <td>0.96</td>\n",
       "      <td>0.08</td>\n",
       "      <td>-3.92</td>\n",
       "      <td>-6.04</td>\n",
       "      <td>-22.27</td>\n",
       "      <td>-21.52</td>\n",
       "      <td>-64.24</td>\n",
       "      <td>-59.57</td>\n",
       "      <td>-24.88</td>\n",
       "      <td>-34.10</td>\n",
       "      <td>-233.95</td>\n",
       "    </tr>\n",
       "    <tr>\n",
       "      <th>2021</th>\n",
       "      <td>5.87</td>\n",
       "      <td>9.05</td>\n",
       "      <td>9.00</td>\n",
       "      <td>0.77</td>\n",
       "      <td>-2.66</td>\n",
       "      <td>-19.47</td>\n",
       "      <td>-21.26</td>\n",
       "      <td>-63.99</td>\n",
       "      <td>-60.11</td>\n",
       "      <td>-24.08</td>\n",
       "      <td>-28.69</td>\n",
       "      <td>-195.57</td>\n",
       "    </tr>\n",
       "    <tr>\n",
       "      <th>2023</th>\n",
       "      <td>7.44</td>\n",
       "      <td>11.40</td>\n",
       "      <td>10.20</td>\n",
       "      <td>2.44</td>\n",
       "      <td>-1.80</td>\n",
       "      <td>-16.94</td>\n",
       "      <td>-18.47</td>\n",
       "      <td>-52.90</td>\n",
       "      <td>-50.01</td>\n",
       "      <td>-18.69</td>\n",
       "      <td>-13.10</td>\n",
       "      <td>-140.40</td>\n",
       "    </tr>\n",
       "    <tr>\n",
       "      <th>2025</th>\n",
       "      <td>8.68</td>\n",
       "      <td>12.18</td>\n",
       "      <td>12.21</td>\n",
       "      <td>2.56</td>\n",
       "      <td>-1.53</td>\n",
       "      <td>-17.38</td>\n",
       "      <td>-19.54</td>\n",
       "      <td>-55.47</td>\n",
       "      <td>-54.53</td>\n",
       "      <td>-20.00</td>\n",
       "      <td>-15.81</td>\n",
       "      <td>-148.62</td>\n",
       "    </tr>\n",
       "    <tr>\n",
       "      <th>2027</th>\n",
       "      <td>10.07</td>\n",
       "      <td>16.06</td>\n",
       "      <td>16.72</td>\n",
       "      <td>7.61</td>\n",
       "      <td>5.27</td>\n",
       "      <td>3.98</td>\n",
       "      <td>-1.39</td>\n",
       "      <td>-5.34</td>\n",
       "      <td>-5.19</td>\n",
       "      <td>-1.94</td>\n",
       "      <td>-5.78</td>\n",
       "      <td>40.11</td>\n",
       "    </tr>\n",
       "  </tbody>\n",
       "</table>\n",
       "</div>"
      ],
      "text/plain": [
       "      0 - 10k  10k - 20k  20k - 30k  30k - 40k  40k - 50k  50k - 75k  \\\n",
       "2019     1.54       0.96       0.08      -3.92      -6.04     -22.27   \n",
       "2021     5.87       9.05       9.00       0.77      -2.66     -19.47   \n",
       "2023     7.44      11.40      10.20       2.44      -1.80     -16.94   \n",
       "2025     8.68      12.18      12.21       2.56      -1.53     -17.38   \n",
       "2027    10.07      16.06      16.72       7.61       5.27       3.98   \n",
       "\n",
       "      75k - 100k  100k - 200k  200k - 500k  500k - 1M  1M and above     All  \n",
       "2019      -21.52       -64.24       -59.57     -24.88        -34.10 -233.95  \n",
       "2021      -21.26       -63.99       -60.11     -24.08        -28.69 -195.57  \n",
       "2023      -18.47       -52.90       -50.01     -18.69        -13.10 -140.40  \n",
       "2025      -19.54       -55.47       -54.53     -20.00        -15.81 -148.62  \n",
       "2027       -1.39        -5.34        -5.19      -1.94         -5.78   40.11  "
      ]
     },
     "execution_count": 159,
     "metadata": {},
     "output_type": "execute_result"
    }
   ],
   "source": [
    "df2 = pd.DataFrame(data=df.iloc[:,1:].transpose(), index=df.columns[1:])\n",
    "df2 = df2/1000 # convert millions USD to billions USD\n",
    "df2.columns=list(df['Income']) # like a transpose?\n",
    "df2"
   ]
  },
  {
   "cell_type": "code",
   "execution_count": 160,
   "metadata": {},
   "outputs": [],
   "source": [
    "# cf.getThemes()\n",
    "# cf.colors.scales()"
   ]
  },
  {
   "cell_type": "code",
   "execution_count": 161,
   "metadata": {},
   "outputs": [
    {
     "ename": "TypeError",
     "evalue": "Object of type 'DataFrame' is not JSON serializable",
     "output_type": "error",
     "traceback": [
      "\u001b[1;31m---------------------------------------------------------------------------\u001b[0m",
      "\u001b[1;31mTypeError\u001b[0m                                 Traceback (most recent call last)",
      "\u001b[1;32m<ipython-input-161-34d873d435f0>\u001b[0m in \u001b[0;36m<module>\u001b[1;34m()\u001b[0m\n\u001b[0;32m      2\u001b[0m iplot([ go.Heatmap(z=df2,\n\u001b[0;32m      3\u001b[0m                    \u001b[0mx\u001b[0m\u001b[1;33m=\u001b[0m\u001b[0mdf2\u001b[0m\u001b[1;33m.\u001b[0m\u001b[0mindex\u001b[0m\u001b[1;33m,\u001b[0m\u001b[1;33m\u001b[0m\u001b[0m\n\u001b[1;32m----> 4\u001b[1;33m                    y=df2.columns)])\n\u001b[0m\u001b[0;32m      5\u001b[0m \u001b[1;31m# iplot([{\u001b[0m\u001b[1;33m\u001b[0m\u001b[1;33m\u001b[0m\u001b[0m\n\u001b[0;32m      6\u001b[0m \u001b[1;31m#     'x': df2.index,\u001b[0m\u001b[1;33m\u001b[0m\u001b[1;33m\u001b[0m\u001b[0m\n",
      "\u001b[1;32mC:\\ProgramData\\Anaconda3\\lib\\site-packages\\plotly\\offline\\offline.py\u001b[0m in \u001b[0;36miplot\u001b[1;34m(figure_or_data, show_link, link_text, validate, image, filename, image_width, image_height, config)\u001b[0m\n\u001b[0;32m    336\u001b[0m     \u001b[1;31m# choose which one to act on.\u001b[0m\u001b[1;33m\u001b[0m\u001b[1;33m\u001b[0m\u001b[0m\n\u001b[0;32m    337\u001b[0m     data = _json.loads(_json.dumps(figure['data'],\n\u001b[1;32m--> 338\u001b[1;33m                                    cls=plotly.utils.PlotlyJSONEncoder))\n\u001b[0m\u001b[0;32m    339\u001b[0m     layout = _json.loads(_json.dumps(figure.get('layout', {}),\n\u001b[0;32m    340\u001b[0m                                      cls=plotly.utils.PlotlyJSONEncoder))\n",
      "\u001b[1;32mC:\\ProgramData\\Anaconda3\\lib\\json\\__init__.py\u001b[0m in \u001b[0;36mdumps\u001b[1;34m(obj, skipkeys, ensure_ascii, check_circular, allow_nan, cls, indent, separators, default, sort_keys, **kw)\u001b[0m\n\u001b[0;32m    236\u001b[0m         \u001b[0mcheck_circular\u001b[0m\u001b[1;33m=\u001b[0m\u001b[0mcheck_circular\u001b[0m\u001b[1;33m,\u001b[0m \u001b[0mallow_nan\u001b[0m\u001b[1;33m=\u001b[0m\u001b[0mallow_nan\u001b[0m\u001b[1;33m,\u001b[0m \u001b[0mindent\u001b[0m\u001b[1;33m=\u001b[0m\u001b[0mindent\u001b[0m\u001b[1;33m,\u001b[0m\u001b[1;33m\u001b[0m\u001b[0m\n\u001b[0;32m    237\u001b[0m         \u001b[0mseparators\u001b[0m\u001b[1;33m=\u001b[0m\u001b[0mseparators\u001b[0m\u001b[1;33m,\u001b[0m \u001b[0mdefault\u001b[0m\u001b[1;33m=\u001b[0m\u001b[0mdefault\u001b[0m\u001b[1;33m,\u001b[0m \u001b[0msort_keys\u001b[0m\u001b[1;33m=\u001b[0m\u001b[0msort_keys\u001b[0m\u001b[1;33m,\u001b[0m\u001b[1;33m\u001b[0m\u001b[0m\n\u001b[1;32m--> 238\u001b[1;33m         **kw).encode(obj)\n\u001b[0m\u001b[0;32m    239\u001b[0m \u001b[1;33m\u001b[0m\u001b[0m\n\u001b[0;32m    240\u001b[0m \u001b[1;33m\u001b[0m\u001b[0m\n",
      "\u001b[1;32mC:\\ProgramData\\Anaconda3\\lib\\site-packages\\plotly\\utils.py\u001b[0m in \u001b[0;36mencode\u001b[1;34m(self, o)\u001b[0m\n\u001b[0;32m    134\u001b[0m \u001b[1;33m\u001b[0m\u001b[0m\n\u001b[0;32m    135\u001b[0m         \u001b[1;31m# this will raise errors in a normal-expected way\u001b[0m\u001b[1;33m\u001b[0m\u001b[1;33m\u001b[0m\u001b[0m\n\u001b[1;32m--> 136\u001b[1;33m         \u001b[0mencoded_o\u001b[0m \u001b[1;33m=\u001b[0m \u001b[0msuper\u001b[0m\u001b[1;33m(\u001b[0m\u001b[0mPlotlyJSONEncoder\u001b[0m\u001b[1;33m,\u001b[0m \u001b[0mself\u001b[0m\u001b[1;33m)\u001b[0m\u001b[1;33m.\u001b[0m\u001b[0mencode\u001b[0m\u001b[1;33m(\u001b[0m\u001b[0mo\u001b[0m\u001b[1;33m)\u001b[0m\u001b[1;33m\u001b[0m\u001b[0m\n\u001b[0m\u001b[0;32m    137\u001b[0m \u001b[1;33m\u001b[0m\u001b[0m\n\u001b[0;32m    138\u001b[0m         \u001b[1;31m# now:\u001b[0m\u001b[1;33m\u001b[0m\u001b[1;33m\u001b[0m\u001b[0m\n",
      "\u001b[1;32mC:\\ProgramData\\Anaconda3\\lib\\json\\encoder.py\u001b[0m in \u001b[0;36mencode\u001b[1;34m(self, o)\u001b[0m\n\u001b[0;32m    197\u001b[0m         \u001b[1;31m# exceptions aren't as detailed.  The list call should be roughly\u001b[0m\u001b[1;33m\u001b[0m\u001b[1;33m\u001b[0m\u001b[0m\n\u001b[0;32m    198\u001b[0m         \u001b[1;31m# equivalent to the PySequence_Fast that ''.join() would do.\u001b[0m\u001b[1;33m\u001b[0m\u001b[1;33m\u001b[0m\u001b[0m\n\u001b[1;32m--> 199\u001b[1;33m         \u001b[0mchunks\u001b[0m \u001b[1;33m=\u001b[0m \u001b[0mself\u001b[0m\u001b[1;33m.\u001b[0m\u001b[0miterencode\u001b[0m\u001b[1;33m(\u001b[0m\u001b[0mo\u001b[0m\u001b[1;33m,\u001b[0m \u001b[0m_one_shot\u001b[0m\u001b[1;33m=\u001b[0m\u001b[1;32mTrue\u001b[0m\u001b[1;33m)\u001b[0m\u001b[1;33m\u001b[0m\u001b[0m\n\u001b[0m\u001b[0;32m    200\u001b[0m         \u001b[1;32mif\u001b[0m \u001b[1;32mnot\u001b[0m \u001b[0misinstance\u001b[0m\u001b[1;33m(\u001b[0m\u001b[0mchunks\u001b[0m\u001b[1;33m,\u001b[0m \u001b[1;33m(\u001b[0m\u001b[0mlist\u001b[0m\u001b[1;33m,\u001b[0m \u001b[0mtuple\u001b[0m\u001b[1;33m)\u001b[0m\u001b[1;33m)\u001b[0m\u001b[1;33m:\u001b[0m\u001b[1;33m\u001b[0m\u001b[0m\n\u001b[0;32m    201\u001b[0m             \u001b[0mchunks\u001b[0m \u001b[1;33m=\u001b[0m \u001b[0mlist\u001b[0m\u001b[1;33m(\u001b[0m\u001b[0mchunks\u001b[0m\u001b[1;33m)\u001b[0m\u001b[1;33m\u001b[0m\u001b[0m\n",
      "\u001b[1;32mC:\\ProgramData\\Anaconda3\\lib\\json\\encoder.py\u001b[0m in \u001b[0;36miterencode\u001b[1;34m(self, o, _one_shot)\u001b[0m\n\u001b[0;32m    255\u001b[0m                 \u001b[0mself\u001b[0m\u001b[1;33m.\u001b[0m\u001b[0mkey_separator\u001b[0m\u001b[1;33m,\u001b[0m \u001b[0mself\u001b[0m\u001b[1;33m.\u001b[0m\u001b[0mitem_separator\u001b[0m\u001b[1;33m,\u001b[0m \u001b[0mself\u001b[0m\u001b[1;33m.\u001b[0m\u001b[0msort_keys\u001b[0m\u001b[1;33m,\u001b[0m\u001b[1;33m\u001b[0m\u001b[0m\n\u001b[0;32m    256\u001b[0m                 self.skipkeys, _one_shot)\n\u001b[1;32m--> 257\u001b[1;33m         \u001b[1;32mreturn\u001b[0m \u001b[0m_iterencode\u001b[0m\u001b[1;33m(\u001b[0m\u001b[0mo\u001b[0m\u001b[1;33m,\u001b[0m \u001b[1;36m0\u001b[0m\u001b[1;33m)\u001b[0m\u001b[1;33m\u001b[0m\u001b[0m\n\u001b[0m\u001b[0;32m    258\u001b[0m \u001b[1;33m\u001b[0m\u001b[0m\n\u001b[0;32m    259\u001b[0m def _make_iterencode(markers, _default, _encoder, _indent, _floatstr,\n",
      "\u001b[1;32mC:\\ProgramData\\Anaconda3\\lib\\site-packages\\plotly\\utils.py\u001b[0m in \u001b[0;36mdefault\u001b[1;34m(self, obj)\u001b[0m\n\u001b[0;32m    202\u001b[0m             \u001b[1;32mexcept\u001b[0m \u001b[0mNotEncodable\u001b[0m\u001b[1;33m:\u001b[0m\u001b[1;33m\u001b[0m\u001b[0m\n\u001b[0;32m    203\u001b[0m                 \u001b[1;32mpass\u001b[0m\u001b[1;33m\u001b[0m\u001b[0m\n\u001b[1;32m--> 204\u001b[1;33m         \u001b[1;32mreturn\u001b[0m \u001b[0m_json\u001b[0m\u001b[1;33m.\u001b[0m\u001b[0mJSONEncoder\u001b[0m\u001b[1;33m.\u001b[0m\u001b[0mdefault\u001b[0m\u001b[1;33m(\u001b[0m\u001b[0mself\u001b[0m\u001b[1;33m,\u001b[0m \u001b[0mobj\u001b[0m\u001b[1;33m)\u001b[0m\u001b[1;33m\u001b[0m\u001b[0m\n\u001b[0m\u001b[0;32m    205\u001b[0m \u001b[1;33m\u001b[0m\u001b[0m\n\u001b[0;32m    206\u001b[0m     \u001b[1;33m@\u001b[0m\u001b[0mstaticmethod\u001b[0m\u001b[1;33m\u001b[0m\u001b[0m\n",
      "\u001b[1;32mC:\\ProgramData\\Anaconda3\\lib\\json\\encoder.py\u001b[0m in \u001b[0;36mdefault\u001b[1;34m(self, o)\u001b[0m\n\u001b[0;32m    178\u001b[0m         \"\"\"\n\u001b[0;32m    179\u001b[0m         raise TypeError(\"Object of type '%s' is not JSON serializable\" %\n\u001b[1;32m--> 180\u001b[1;33m                         o.__class__.__name__)\n\u001b[0m\u001b[0;32m    181\u001b[0m \u001b[1;33m\u001b[0m\u001b[0m\n\u001b[0;32m    182\u001b[0m     \u001b[1;32mdef\u001b[0m \u001b[0mencode\u001b[0m\u001b[1;33m(\u001b[0m\u001b[0mself\u001b[0m\u001b[1;33m,\u001b[0m \u001b[0mo\u001b[0m\u001b[1;33m)\u001b[0m\u001b[1;33m:\u001b[0m\u001b[1;33m\u001b[0m\u001b[0m\n",
      "\u001b[1;31mTypeError\u001b[0m: Object of type 'DataFrame' is not JSON serializable"
     ]
    }
   ],
   "source": [
    "#cf.set_config_file(offline=True, world_readable=True, theme='pearl')\n",
    "iplot([ go.Heatmap(z=df2,\n",
    "                   x=df2.index,\n",
    "                   y=df2.columns)])\n",
    "# iplot([{\n",
    "#     'x': df2.index,\n",
    "#     'y': df[col],\n",
    "#     'name': col\n",
    "# }  for col in df.columns], filename='cufflinks/simple-line')\n",
    "# df2.iplot(kind='heatmap', colorscale='puor')"
   ]
  },
  {
   "cell_type": "code",
   "execution_count": null,
   "metadata": {
    "collapsed": true
   },
   "outputs": [],
   "source": []
  },
  {
   "cell_type": "code",
   "execution_count": null,
   "metadata": {
    "collapsed": true
   },
   "outputs": [],
   "source": []
  }
 ],
 "metadata": {
  "kernelspec": {
   "display_name": "Python 3",
   "language": "python",
   "name": "python3"
  },
  "language_info": {
   "codemirror_mode": {
    "name": "ipython",
    "version": 3
   },
   "file_extension": ".py",
   "mimetype": "text/x-python",
   "name": "python",
   "nbconvert_exporter": "python",
   "pygments_lexer": "ipython3",
   "version": "3.6.3"
  }
 },
 "nbformat": 4,
 "nbformat_minor": 2
}
